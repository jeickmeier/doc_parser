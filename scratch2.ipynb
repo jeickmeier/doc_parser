{
 "cells": [
  {
   "cell_type": "code",
   "execution_count": null,
   "id": "68d9a5c2",
   "metadata": {},
   "outputs": [],
   "source": [
    "from doc_parser.convert_pdf import PDFConverter\n",
    "\n",
    "pdf_file = \"inputs/JPM_An_Introduction_to_C_2025-07-02_5004439.pdf\"\n",
    "pdf_converter = PDFConverter(pdf_file, dpi=300, max_workers=10)\n",
    "pdf_converter._pdf_to_images()"
   ]
  },
  {
   "cell_type": "code",
   "execution_count": null,
   "id": "e122794a",
   "metadata": {},
   "outputs": [],
   "source": [
    "await pdf_converter.convert_to_markdown(prompt=\"Extract the text from the image\")\n",
    "print(pdf_converter.output_parsed)"
   ]
  },
  {
   "cell_type": "code",
   "execution_count": null,
   "id": "4d5b6137",
   "metadata": {},
   "outputs": [],
   "source": [
    "result = await pdf_converter._convert_to_markdown(0, prompt=\"Extract the text from the image\")\n",
    "print(result.final_output)"
   ]
  },
  {
   "cell_type": "code",
   "execution_count": null,
   "id": "b293aee7",
   "metadata": {},
   "outputs": [],
   "source": [
    "result.raw_responses[0].usage"
   ]
  },
  {
   "cell_type": "code",
   "execution_count": null,
   "id": "d64977e2",
   "metadata": {},
   "outputs": [],
   "source": [
    "stats = {\n",
    "    \"prompt_tokens\": result.raw_responses[0].usage.input_tokens,\n",
    "    \"output_tokens\": result.raw_responses[0].usage.output_tokens,\n",
    "    \"total_tokens\": result.raw_responses[0].usage.total_tokens,\n",
    "}\n",
    "\n",
    "print(stats)"
   ]
  },
  {
   "cell_type": "code",
   "execution_count": null,
   "id": "065183e7",
   "metadata": {},
   "outputs": [],
   "source": [
    "from IPython.display import Markdown\n",
    "\n",
    "Markdown(result.final_output)"
   ]
  }
 ],
 "metadata": {
  "kernelspec": {
   "display_name": ".venv",
   "language": "python",
   "name": "python3"
  },
  "language_info": {
   "codemirror_mode": {
    "name": "ipython",
    "version": 3
   },
   "file_extension": ".py",
   "mimetype": "text/x-python",
   "name": "python",
   "nbconvert_exporter": "python",
   "pygments_lexer": "ipython3",
   "version": "3.12.8"
  }
 },
 "nbformat": 4,
 "nbformat_minor": 5
}
